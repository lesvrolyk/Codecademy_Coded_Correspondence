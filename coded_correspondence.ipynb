{
 "cells": [
  {
   "cell_type": "markdown",
   "metadata": {},
   "source": [
    "# Casual Coded Correspondence: The Project\n",
    "\n",
    "In this project, you will be working to code and decode various messages between you and your fictional cryptography enthusiast pen pal Vishal. You and Vishal have been exchanging letters for quite some time now and have started to provide a puzzle in each one of your letters.  Here is his most recent letter:\n",
    "\n",
    "     Hey there! How have you been? I've been great! I just learned about this really cool type of cipher called a  Caesar Cipher. Here's how it works: You take your message, something like \"hello\" and then you shift all of the letters by a certain offset. For example, if I chose an offset of 3 and a message of \"hello\", I would code my message by shifting each letter 3 places to the left (with respect to the alphabet). So \"h\" becomes \"e\", \"e\" becomes, \"b\", \"l\" becomes \"i\", and \"o\" becomes \"l\". Then I have my coded message,\"ebiil\"! Now I can send you my message and the offset and you can decode it. The best thing is that Julius Caesar himself used this cipher, that's why it's called the Caesar Cipher! Isn't that so cool! Okay, now I'm going to send you a longer coded message that you have to decode yourself!\n",
    "    \n",
    "        xuo jxuhu! jxyi yi qd unqcfbu ev q squiqh syfxuh. muhu oek qrbu je tusetu yj? y xefu ie! iudt cu q cuiiqwu rqsa myjx jxu iqcu evviuj!\n",
    "    \n",
    "    This message has an offset of 10. Can you decode it?\n",
    "    \n",
    "\n",
    "#### Step 1: Decode Vishal's Message\n",
    "In the cell below, use your Python skills to decode Vishal's message and print the result. Hint: you can account for shifts that go past the end of the alphabet using the modulus operator, but I'll let you figure out how!"
   ]
  },
  {
   "cell_type": "code",
   "execution_count": 1,
   "metadata": {},
   "outputs": [
    {
     "name": "stdout",
     "output_type": "stream",
     "text": [
      "hey there! this is an example of a caesar cipher. were you able to decode it? i hope so! send me a message back with the same offset!\n"
     ]
    }
   ],
   "source": [
    "vishals_message = \"xuo jxuhu! jxyi yi qd unqcfbu ev q squiqh syfxuh. muhu oek qrbu je tusetu yj? y xefu ie! iudt cu q cuiiqwu rqsa myjx jxu iqcu evviuj!\"\n",
    "\n",
    "\n",
    "def decode_Caesars_Cipher(message, offset, shift_direction):\n",
    "    alphabet = \"abcdefghijklmnopqrstuvwxyz\"\n",
    "    decoded_message_split = []\n",
    "    lower_message = message.lower()\n",
    "    split_message = lower_message.split()\n",
    "\n",
    "    for word in split_message:\n",
    "        decoded_word = ''\n",
    "        for letter in word:\n",
    "            index = alphabet.find(letter)\n",
    "            if index == -1:\n",
    "                decoded_word += letter\n",
    "            else:\n",
    "                if shift_direction == 'left':\n",
    "                    decoded_word += alphabet[index - offset]\n",
    "                else:  #shift_direction == 'right'\n",
    "                    decoded_word += alphabet[(index + offset) % 26]\n",
    "        decoded_message_split.append(decoded_word)\n",
    "    decoded_message_string = ' '.join(decoded_message_split)    \n",
    "    return decoded_message_string\n",
    "\n",
    "\n",
    "print(decode_Caesars_Cipher(vishals_message, 10, 'right'))\n"
   ]
  },
  {
   "cell_type": "markdown",
   "metadata": {},
   "source": [
    "#### Step 2: Send Vishal a Coded Message\n",
    "Great job! Now send Vishal back a message using the same offset. Your message can be anything you want! Remember, coding happens in opposite direction of decoding."
   ]
  },
  {
   "cell_type": "code",
   "execution_count": 2,
   "metadata": {},
   "outputs": [
    {
     "name": "stdout",
     "output_type": "stream",
     "text": [
      "xuo rqsa! squiqh'i syfxuh yi jee uqio je tusetu. oek ixekbt jho q xqhtuh syfxuh!!\n",
      "hey back! caesar's cipher is too easy to decode. you should try a harder cipher!!\n"
     ]
    }
   ],
   "source": [
    "my_message = \"Hey back! Caesar's cipher is too easy to decode. You should try a harder cipher!!\"\n",
    "\n",
    "def encode_Caesars_Cipher(message, offset, shift_direction):\n",
    "    alphabet = \"abcdefghijklmnopqrstuvwxyz\"\n",
    "    coded_message_split = []\n",
    "    lower_message = message.lower()\n",
    "    split_message = lower_message.split()\n",
    "    \n",
    "    for word in split_message:\n",
    "        coded_word = ''\n",
    "        for letter in word:\n",
    "            index = alphabet.find(letter)\n",
    "            if index == -1:\n",
    "                coded_word += letter\n",
    "            else:\n",
    "                if shift_direction == 'left':\n",
    "                    coded_word += alphabet[index - offset]\n",
    "                else:  #shift_direction == 'right'\n",
    "                    coded_word += alphabet[(index + offset) % 26]\n",
    "        coded_message_split.append(coded_word)\n",
    "    coded_message_string = ' '.join(coded_message_split)    \n",
    "    return coded_message_string\n",
    "\n",
    "new_message = encode_Caesars_Cipher(my_message, 10, 'left')\n",
    "print(new_message)\n",
    "print(decode_Caesars_Cipher(new_message, 10, 'right'))"
   ]
  },
  {
   "cell_type": "markdown",
   "metadata": {},
   "source": [
    "#### Step 3: Make functions for decoding and coding \n",
    "\n",
    "Vishal sent over another reply, this time with two coded messages!\n",
    "    \n",
    "    You're getting the hang of this! Okay here are two more messages, the first one is coded just like before with  an offset of ten, and it contains the hint for decoding the second message!\n",
    "    \n",
    "    First message:\n",
    "    \n",
    "        jxu evviuj veh jxu iusedt cuiiqwu yi vekhjuud.\n",
    "        \n",
    "    Second message:\n",
    "    \n",
    "        bqdradyuzs ygxfubxq omqemd oubtqde fa oapq kagd yqeemsqe ue qhqz yadq eqogdq!\n",
    "    \n",
    "Decode both of these messages. \n",
    "\n",
    "If you haven't already, define two functions `decoder(message, offset)` and `coder(message, offset)` that can be used to quickly decode and code messages given any offset."
   ]
  },
  {
   "cell_type": "code",
   "execution_count": 3,
   "metadata": {},
   "outputs": [
    {
     "name": "stdout",
     "output_type": "stream",
     "text": [
      "the offset for the second message is fourteen.\n",
      "jxu evviuj veh jxu iusedt cuiiqwu yi vekhjuud.\n"
     ]
    }
   ],
   "source": [
    "#Made a new version of function, doesn't need to split message up into words first, so much cleaner.\n",
    "#We can get rid of shift_direction by setting offset to a negative number for a left shift and positive for a right shift!\n",
    "#This means that the same function can decode or encode any Caesar Cipher!\n",
    "def decode_or_encode_Caesars_Cipher(message, offset):\n",
    "    alphabet = \"abcdefghijklmnopqrstuvwxyz\"\n",
    "    lower_message = message.lower()\n",
    "    cipher_message = ''\n",
    "    \n",
    "    for letter in lower_message:\n",
    "        index = alphabet.find(letter)   \n",
    "        if index == -1:\n",
    "            cipher_message += letter\n",
    "        else:\n",
    "            cipher_message += alphabet[(index + offset) % 26]\n",
    "   \n",
    "    return cipher_message\n",
    "\n",
    "first_message = \"jxu evviuj veh jxu iusedt cuiiqwu yi vekhjuud.\"\n",
    "decode = decode_or_encode_Caesars_Cipher(first_message, 10)\n",
    "print(decode)\n",
    "\n",
    "#Same function can be used to decode and encode, calling it again on the decoded message, you get the original encoded \n",
    "#message back!\n",
    "encode = decode_or_encode_Caesars_Cipher(decode, -10)\n",
    "print(encode)"
   ]
  },
  {
   "cell_type": "code",
   "execution_count": 4,
   "metadata": {},
   "outputs": [
    {
     "name": "stdout",
     "output_type": "stream",
     "text": [
      "performing multiple caesar ciphers to code your messages is even more secure!\n"
     ]
    }
   ],
   "source": [
    "second_message = \"bqdradyuzs ygxfubxq omqemd oubtqde fa oapq kagd yqeemsqe ue qhqz yadq eqogdq!\"\n",
    "print(decode_or_encode_Caesars_Cipher(second_message, 14))"
   ]
  },
  {
   "cell_type": "markdown",
   "metadata": {},
   "source": [
    "#### Step 4: Solving a Caesar Cipher without knowing the shift value\n",
    "\n",
    "Awesome work! While you were working to decode his last two messages, Vishal sent over another letter! He's really been bitten by the crytpo-bug. Read it and see what interesting task he has lined up for you this time.\n",
    "\n",
    "            Hello again friend! I knew you would love the Caesar Cipher, it's a cool simple way to encrypt messages. Did you know that back in Caesar's time, it was considered a very secure way of communication and it took a lot of effort to crack if you were unaware of the value of the shift? That's all changed with computers! Now we can brute force these kinds of ciphers very quickly, as I'm sure you can imagine.\n",
    "            \n",
    "            To test your cryptography skills, this next coded message is going to be harder than the last couple to crack. It's still going to be coded with a Caesar Cipher but this time I'm not going to tell you the value of   the shift. You'll have to brute force it yourself.\n",
    "            \n",
    "            Here's the coded message:\n",
    "            \n",
    "            vhfinmxkl atox kxgwxkxw tee hy maxlx hew vbiaxkl tl hulhexmx. px'ee atox mh kxteer lmxi ni hnk ztfx by px ptgm mh dxxi hnk fxlltzxl ltyx.\n",
    "            \n",
    "            Good luck!\n",
    "            \n",
    "Decode Vishal's most recent message and see what it says!"
   ]
  },
  {
   "cell_type": "code",
   "execution_count": 5,
   "metadata": {},
   "outputs": [
    {
     "name": "stdout",
     "output_type": "stream",
     "text": [
      "With a right shift of 7 or left shift of 19 the message reads:\n",
      "\"computers have rendered all of these old ciphers as obsolete. we'll have to really step up our game if we want to keep our messages safe.\"\n"
     ]
    }
   ],
   "source": [
    "unknown_shift_message = \"vhfinmxkl atox kxgwxkxw tee hy maxlx hew vbiaxkl tl hulhexmx. px'ee atox mh kxteer lmxi ni hnk ztfx by px ptgm mh dxxi hnk fxlltzxl ltyx.\"\n",
    "common_three_letter_words = [' the ', ' and ', ' are ', ' for ', ' not ', ' but ', ' had ', ' has ', ' was ', ' all ', ' any ', ' one ', ' man ', ' out ', ' you ', ' his ', ' her ', ' can ']\n",
    "bad_message = \"exujhu exujhu exujhu!\"\n",
    "\n",
    "#I am assuming that any message will contain at least one of the most common 3 letter words in the English language.\n",
    "#You must look for spaces on each side of the 3 letter words to confirm that they are stand-alone words and not part\n",
    "#of another longer word. \n",
    "#This won't always work, but I liked having a way to find the specific decoding and not have to display all 26 versions.\n",
    "def decode_message_with_unknown_shift(message):\n",
    "    for i in range(1,26):\n",
    "        possible_message = decode_or_encode_Caesars_Cipher(message, i)\n",
    "        for word in common_three_letter_words:\n",
    "            if word in possible_message:\n",
    "                return possible_message, i\n",
    "    return \"Unable to decode message\", 0\n",
    "\n",
    "decoded_message, i = decode_message_with_unknown_shift(unknown_shift_message)\n",
    "\n",
    "#Here I will print out the decoded message, or brute force a solution in none was found. Could make this nicer...\n",
    "if decoded_message == \"Unable to decode message\":\n",
    "    print(decoded_message + \", trying brute force method now...\")\n",
    "    for i in range(1,26):\n",
    "        crazy_message = decode_or_encode_Caesars_Cipher(bad_message, i)\n",
    "        print(\"Right shift of {} or left shift of {}:\\n\\\"{}\\\"\".format(i, abs(i-26), crazy_message))\n",
    "else:\n",
    "    print(\"With a right shift of {} or left shift of {} the message reads:\\n\\\"{}\\\"\".format(i, abs(i-26), decoded_message))"
   ]
  },
  {
   "cell_type": "markdown",
   "metadata": {},
   "source": [
    "#### Step 5: The Vigenère Cipher\n",
    "\n",
    "Great work! While you were working on the brute force cracking of the cipher, Vishal sent over another letter. That guy is a letter machine!\n",
    "\n",
    "            Salutations! As you can see, technology has made brute forcing simple ciphers like the Caesar Cipher extremely easy, and us crypto-enthusiasts have had to get more creative and use more complicated ciphers. This next cipher I'm going to teach you is the Vigenère Cipher, invented by an Italian cryptologist named Giovan Battista Bellaso (cool name eh?) in the 16th century, but named after another cryptologist from the 16th century, Blaise de Vigenère.\n",
    "            \n",
    "           The Vigenère Cipher is a polyalphabetic substitution cipher, as opposed to the Caesar Cipher which was a monoalphabetic substitution cipher. What this means is that opposed to having a single shift that is applied to every letter, the Vigenère Cipher has a different shift for each individual letter. The value of the shift for each letter is determined by a given keyword.\n",
    "           \n",
    "           Consider the message\n",
    "           \n",
    "               barry is the spy\n",
    "\n",
    "           If we want to code this message, first we choose a keyword. For this example, we'll use the keyword\n",
    "           \n",
    "               dog\n",
    "               \n",
    "           Now we use the repeat the keyword over and over to generate a _keyword phrase_ that is the same length as the message we want to code. So if we want to code the message \"barry is the spy\" our _keyword phrase_ is \"dogdo gd ogd ogd\". Now we are ready to start coding our message. We shift the each letter of our message by the place value of the corresponding letter in the keyword phrase, assuming that \"a\" has a place value of 0, \"b\" has a place value of 1, and so forth. Remember, we zero-index because this is Python we're talking about!\n",
    "\n",
    "                        message:       b  a  r  r  y    i  s   t  h  e   s  p  y\n",
    "                \n",
    "                 keyword phrase:       d  o  g  d  o    g  d   o  g  d   o  g  d\n",
    "                 \n",
    "          resulting place value:       4  14 15 12 16   24 11  21 25 22  22 17 5\n",
    "      \n",
    "            So we shift \"b\", which has an index of 1, by the index of \"d\", which is 3. This gives us an place value of 4, which is \"e\". Then continue the trend: we shift \"a\" by the place value of \"o\", 14, and get \"o\" again, we shift \"r\" by the place value of \"g\", 15, and get \"x\", shift the next \"r\" by 12 places and \"u\", and so forth. Once we complete all the shifts we end up with our coded message:\n",
    "            \n",
    "                eoxum ov hnh gvb\n",
    "                \n",
    "            As you can imagine, this is a lot harder to crack without knowing the keyword! So now comes the hard part. I'll give you a message and the keyword, and you'll see if you can figure out how to crack it! Ready? Okay here's my message:\n",
    "            \n",
    "                dfc aruw fsti gr vjtwhr wznj? vmph otis! cbx swv jipreneo uhllj kpi rahjib eg fjdkwkedhmp!\n",
    "                \n",
    "            and the keyword to decode my message is \n",
    "            \n",
    "                friends\n",
    "                \n",
    "            Because that's what we are! Good luck friend!\n",
    "           \n",
    "And there it is. Vishal has given you quite the assignment this time! Try to decode his message. It may be helpful to create a function that takes two parameters, the coded message and the keyword and then work towards a solution from there.\n",
    "\n",
    "**NOTE:** Watch out for spaces and punctuation! When there's a space or punctuation mark in the original message, there should be a space/punctuation mark in the corresponding repeated-keyword string as well! "
   ]
  },
  {
   "cell_type": "code",
   "execution_count": 6,
   "metadata": {},
   "outputs": [
    {
     "name": "stdout",
     "output_type": "stream",
     "text": [
      "you were able to decode this? nice work! you are becoming quite the expert at crytography!\n",
      "dfc aruw fsti gr vjtwhr wznj? vmph otis! cbx swv jipreneo uhllj kpi rahjib eg fjdkwkedhmp!\n"
     ]
    }
   ],
   "source": [
    "vigenere_message = \"dfc aruw fsti gr vjtwhr wznj? vmph otis! cbx swv jipreneo uhllj kpi rahjib eg fjdkwkedhmp!\"\n",
    "key = 'friends'\n",
    "\n",
    "#last parameter indicates whether to decode or encode the message\n",
    "def decode_or_encode_Vigenere_Cipher(message, key, method):\n",
    "    alphabet = \"abcdefghijklmnopqrstuvwxyz\"\n",
    "    lower_message = message.lower()\n",
    "    cipher_message = ''\n",
    "    key_index = 0\n",
    "    keyword_phrase = ''\n",
    "    \n",
    "    #create the keyword phrase by repeating the key\n",
    "    for letter in lower_message:\n",
    "        alpha_index = alphabet.find(letter)\n",
    "        if alpha_index == -1:\n",
    "            keyword_phrase += letter\n",
    "        else:\n",
    "            if key_index == len(key):\n",
    "                key_index = 0\n",
    "            keyword_phrase += key[key_index]\n",
    "            key_index +=1\n",
    "    \n",
    "    #Now decode the message by subtracting the indexes of each message letter with each keyword phrase letter\n",
    "    #Or encode by adding the indexes, depending on which method was specific\n",
    "    for message_letter, key_letter in zip(lower_message, keyword_phrase):\n",
    "        alpha_index = alphabet.find(message_letter)\n",
    "        key_index = alphabet.find(key_letter)\n",
    "        if alpha_index == -1:\n",
    "            cipher_message += message_letter\n",
    "        else:\n",
    "            if method == 'encode':\n",
    "                cipher_message += alphabet[(alpha_index + key_index) % 26]\n",
    "            else: #decode message\n",
    "                cipher_message += alphabet[(alpha_index - key_index) % 26]\n",
    "    return cipher_message\n",
    "\n",
    "decoded_message = decode_or_encode_Vigenere_Cipher(vigenere_message, key, 'decode')\n",
    "print(decoded_message)\n",
    "encoded_message = decode_or_encode_Vigenere_Cipher(decoded_message, key, 'encode')\n",
    "print(encoded_message)"
   ]
  },
  {
   "cell_type": "markdown",
   "metadata": {
    "collapsed": true
   },
   "source": [
    "#### Step 6: Send a message with the  Vigenère Cipher\n",
    "Great work decoding the message. For your final task, write a function that can encode a message using a given keyword and write out a message to send to Vishal!\n",
    "\n",
    "*As a bonus, try calling your decoder function on the result of your encryption function. You should get the original message back!*"
   ]
  },
  {
   "cell_type": "code",
   "execution_count": 7,
   "metadata": {},
   "outputs": [
    {
     "name": "stdout",
     "output_type": "stream",
     "text": [
      "jzpzlsfj wswhpv megm n twy xz srih ylpu pseueyg qyjnrr tbgcishv...rwhjgtiypq nj tb vw s hee!\n",
      "everyone should have a pet to keep them company during lockdown...especially if it is a cat!\n"
     ]
    }
   ],
   "source": [
    "vigenere_message = \"Everyone should have a pet to keep them company during lockdown...especially if it is a cat!\"\n",
    "key = 'felines'\n",
    "\n",
    "encoded_message = decode_or_encode_Vigenere_Cipher(vigenere_message, key, 'encode')\n",
    "print(encoded_message)\n",
    "decoded_message = decode_or_encode_Vigenere_Cipher(encoded_message, key, 'decode')\n",
    "print(decoded_message)"
   ]
  },
  {
   "cell_type": "markdown",
   "metadata": {},
   "source": [
    "#### Conclusion\n",
    "Over the course of this project you've learned about two different cipher methods and have used your Python skills to code and decode messages. There are all types of other facinating ciphers out there to explore, and Python is the perfect language to implement them with, so go exploring! "
   ]
  }
 ],
 "metadata": {
  "kernelspec": {
   "display_name": "Python 3",
   "language": "python",
   "name": "python3"
  },
  "language_info": {
   "codemirror_mode": {
    "name": "ipython",
    "version": 3
   },
   "file_extension": ".py",
   "mimetype": "text/x-python",
   "name": "python",
   "nbconvert_exporter": "python",
   "pygments_lexer": "ipython3",
   "version": "3.7.4"
  }
 },
 "nbformat": 4,
 "nbformat_minor": 2
}
